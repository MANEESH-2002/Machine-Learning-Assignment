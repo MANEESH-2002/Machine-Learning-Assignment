{
  "nbformat": 4,
  "nbformat_minor": 0,
  "metadata": {
    "colab": {
      "provenance": []
    },
    "kernelspec": {
      "name": "python3",
      "display_name": "Python 3"
    },
    "language_info": {
      "name": "python"
    }
  },
  "cells": [
    {
      "cell_type": "code",
      "execution_count": 2,
      "metadata": {
        "colab": {
          "base_uri": "https://localhost:8080/"
        },
        "id": "NCoHrYAowebU",
        "outputId": "19e18cd9-6ef0-48e7-e90b-8d76b588afda"
      },
      "outputs": [
        {
          "output_type": "stream",
          "name": "stdout",
          "text": [
            "Confusion Matrix:\n",
            " [[134  51]\n",
            " [ 48 167]]\n",
            "Accuracy of the model is 75.25%\n"
          ]
        }
      ],
      "source": [
        "import numpy as np\n",
        "import pandas as pd\n",
        "from sklearn.model_selection import train_test_split\n",
        "from sklearn.preprocessing import StandardScaler\n",
        "from sklearn.linear_model import LogisticRegression\n",
        "from sklearn.metrics import confusion_matrix, accuracy_score\n",
        "import matplotlib.pyplot as plt\n",
        "\n",
        "# Load the dataset\n",
        "dataset = pd.read_csv(\"/content/winequality-red.csv\")\n",
        "\n",
        "# Convert quality to binary outcome (1 for good quality, 0 for bad quality)\n",
        "dataset['quality'] = np.where(dataset['quality'] >= 6, 1, 0)\n",
        "\n",
        "# Select features and target variable\n",
        "X = dataset.iloc[:, :-1].values  # All columns except 'quality'\n",
        "y = dataset['quality'].values    # 'quality' as target variable\n",
        "\n",
        "# Split the dataset into training and test sets\n",
        "X_train, X_test, y_train, y_test = train_test_split(X, y, test_size=0.25, random_state=0)\n",
        "\n",
        "# Standardize the feature values\n",
        "scaler = StandardScaler()\n",
        "X_train = scaler.fit_transform(X_train)\n",
        "X_test = scaler.transform(X_test)\n",
        "\n",
        "# Train the logistic regression model\n",
        "classifier = LogisticRegression(random_state=0)\n",
        "classifier.fit(X_train, y_train)\n",
        "\n",
        "# Predict test results\n",
        "y_pred = classifier.predict(X_test)\n",
        "\n",
        "# Evaluate model performance\n",
        "cm = confusion_matrix(y_test, y_pred)\n",
        "accuracy = accuracy_score(y_test, y_pred)\n",
        "\n",
        "print(\"Confusion Matrix:\\n\", cm)\n",
        "print(f'Accuracy of the model is {accuracy * 100:.2f}%')\n"
      ]
    }
  ]
}